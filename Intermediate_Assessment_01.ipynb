{
 "cells": [
  {
   "cell_type": "code",
   "execution_count": 5,
   "id": "bc9cc792-8fda-4ef1-b42e-ab2d0f3faf19",
   "metadata": {},
   "outputs": [],
   "source": []
  },
  {
   "cell_type": "code",
   "execution_count": null,
   "id": "9c1fd17f-7c2e-4cbb-b6c8-ecf5d9f2063e",
   "metadata": {},
   "outputs": [],
   "source": []
  },
  {
   "cell_type": "code",
   "execution_count": 15,
   "id": "7287bf2f-d7bb-4237-96eb-87a36f0023c0",
   "metadata": {},
   "outputs": [
    {
     "name": "stdout",
     "output_type": "stream",
     "text": [
      "Enter details for sale record 1:\n"
     ]
    },
    {
     "name": "stdin",
     "output_type": "stream",
     "text": [
      "Enter Order ID:  1001\n",
      "Enter Customer Name:  amal\n",
      "Enter Item Name:  Mobile\n",
      "Enter Quantity:  4\n",
      "Enter Price:  452.02\n",
      "Enter Order Date (YYYY-MM-DD):  2025-03-23\n"
     ]
    },
    {
     "name": "stdout",
     "output_type": "stream",
     "text": [
      "Enter details for sale record 2:\n"
     ]
    },
    {
     "name": "stdin",
     "output_type": "stream",
     "text": [
      "Enter Order ID:  1002\n",
      "Enter Customer Name:  anjali\n",
      "Enter Item Name:  tv\n",
      "Enter Quantity:  5\n",
      "Enter Price:  8963.23\n",
      "Enter Order Date (YYYY-MM-DD):  2025-05-07\n"
     ]
    },
    {
     "name": "stdout",
     "output_type": "stream",
     "text": [
      "Enter details for sale record 3:\n"
     ]
    },
    {
     "name": "stdin",
     "output_type": "stream",
     "text": [
      "Enter Order ID:  1003\n",
      "Enter Customer Name:  abhi\n",
      "Enter Item Name:  Speaker\n",
      "Enter Quantity:  5\n",
      "Enter Price:  142.25\n",
      "Enter Order Date (YYYY-MM-DD):  2025-08-23\n"
     ]
    },
    {
     "name": "stdout",
     "output_type": "stream",
     "text": [
      "\n",
      "Final Sales Data:\n",
      "{'order_id': 1001, 'customer': 'amal', 'item': 'Mobile', 'quantity': 4, 'price': 452.02, 'date': '2025-03-23'}\n",
      "{'order_id': 1002, 'customer': 'anjali', 'item': 'tv', 'quantity': 5, 'price': 8963.23, 'date': '2025-05-07'}\n",
      "{'order_id': 1003, 'customer': 'abhi', 'item': 'Speaker', 'quantity': 5, 'price': 142.25, 'date': '2025-08-23'}\n"
     ]
    }
   ],
   "source": [
    "sales_data = []\n",
    "\n",
    "for i in range(3):  \n",
    "    print(f\"Enter details for sale record {i+1}:\")\n",
    "    \n",
    "    order_id = int(input(\"Enter Order ID: \"))\n",
    "    customer = input(\"Enter Customer Name: \")\n",
    "    item = input(\"Enter Item Name: \")\n",
    "    quantity = int(input(\"Enter Quantity: \"))\n",
    "    price = float(input(\"Enter Price: \"))\n",
    "    order_date = input(\"Enter Order Date (YYYY-MM-DD): \")\n",
    "    \n",
    "    \n",
    "    record = {\n",
    "        \"order_id\": order_id,\n",
    "        \"customer\": customer,\n",
    "        \"item\": item,\n",
    "        \"quantity\": quantity,\n",
    "        \"price\": price,\n",
    "        \"date\":order_date\n",
    "    }\n",
    "    \n",
    "    sales_data.append(record)\n",
    "\n",
    "print(\"\\nFinal Sales Data:\")\n",
    "for record in sales_data:\n",
    "    print(record)"
   ]
  },
  {
   "cell_type": "code",
   "execution_count": 19,
   "id": "9aee4efa-1776-4f5d-9d0e-f4fb81293fc9",
   "metadata": {},
   "outputs": [
    {
     "name": "stdout",
     "output_type": "stream",
     "text": [
      "711.25\n"
     ]
    }
   ],
   "source": [
    "\n",
    "for record in sales_data:\n",
    "    record[\"total_price\"] = round(record[\"quantity\"] * record[\"price\"], 2)\n",
    "print(record[\"total_price\"])    "
   ]
  },
  {
   "cell_type": "code",
   "execution_count": 20,
   "id": "6d39aa4a-83ad-4d70-af60-1a28e0a7e3ba",
   "metadata": {},
   "outputs": [
    {
     "name": "stdout",
     "output_type": "stream",
     "text": [
      "[{'order_id': 1002, 'customer': 'anjali', 'item': 'tv', 'quantity': 5, 'price': 8963.23, 'date': '2025-05-07', 'total_price': 44816.15}]\n"
     ]
    }
   ],
   "source": [
    "high_value_orders = []\n",
    "\n",
    "for record in sales_data:\n",
    "    total = record[\"quantity\"] * record[\"price\"]\n",
    "    if total > 2000:\n",
    "        high_value_orders.append(record)\n",
    "print(high_value_orders)"
   ]
  },
  {
   "cell_type": "code",
   "execution_count": 22,
   "id": "3f702a18-ffdd-40a3-a3df-e10d21d03e4a",
   "metadata": {},
   "outputs": [
    {
     "ename": "NameError",
     "evalue": "name 'defaultdict' is not defined",
     "output_type": "error",
     "traceback": [
      "\u001b[1;31m---------------------------------------------------------------------------\u001b[0m",
      "\u001b[1;31mNameError\u001b[0m                                 Traceback (most recent call last)",
      "Cell \u001b[1;32mIn[22], line 1\u001b[0m\n\u001b[1;32m----> 1\u001b[0m item_quantity \u001b[38;5;241m=\u001b[39m defaultdict(\u001b[38;5;28mint\u001b[39m)\n\u001b[0;32m      2\u001b[0m \u001b[38;5;28;01mfor\u001b[39;00m record \u001b[38;5;129;01min\u001b[39;00m sales_data:\n\u001b[0;32m      3\u001b[0m     item_quantity[record[\u001b[38;5;124m\"\u001b[39m\u001b[38;5;124mitem\u001b[39m\u001b[38;5;124m\"\u001b[39m]] \u001b[38;5;241m+\u001b[39m\u001b[38;5;241m=\u001b[39m record[\u001b[38;5;124m\"\u001b[39m\u001b[38;5;124mquantity\u001b[39m\u001b[38;5;124m\"\u001b[39m]\n",
      "\u001b[1;31mNameError\u001b[0m: name 'defaultdict' is not defined"
     ]
    }
   ],
   "source": [
    "item_quantity = defaultdict(int)\n",
    "for record in sales_data:\n",
    "    item_quantity[record[\"item\"]] += record[\"quantity\"]\n",
    "\n",
    "most_sold_item = max(item_quantity, key=item_quantity.get)\n",
    "max_quantity = item_quantity[most_sold_item]\n",
    "\n",
    "print(f\"Most Sold Item: {most_sold_item} ({max_quantity} units)\")"
   ]
  },
  {
   "cell_type": "code",
   "execution_count": 25,
   "id": "1c4a5b54-dde3-463c-984c-903e62ab84f8",
   "metadata": {},
   "outputs": [],
   "source": [
    "def apply_discount(orders, discount_rate):\n",
    "    discounted_orders = []\n",
    "\n",
    "    for order in orders:\n",
    "        new_order = order.copy()\n",
    "        new_order[\"price_per_item\"] = round(new_order[\"price_per_item\"] * (1 - discount_rate), 2)\n",
    "        discounted_orders.append(new_order)\n",
    "\n",
    "    return discounted_orders\n"
   ]
  },
  {
   "cell_type": "code",
   "execution_count": null,
   "id": "e8bc0b85-f8bc-46b5-a2fb-987b5ca0e0e8",
   "metadata": {},
   "outputs": [],
   "source": []
  },
  {
   "cell_type": "code",
   "execution_count": 26,
   "id": "52ed7c12-026e-4069-9bd5-fdda1a18178f",
   "metadata": {},
   "outputs": [
    {
     "name": "stdout",
     "output_type": "stream",
     "text": [
      "Store: ShopEase\n",
      "Owner: Amal\n",
      "Error: name 'store_owner' is not defined\n"
     ]
    }
   ],
   "source": [
    "store_name = \"ShopEase\"\n",
    "\n",
    "def print_store_info():\n",
    "    # Local variable\n",
    "    store_owner = \"Amal\"\n",
    "    print(f\"Store: {store_name}\")      \n",
    "    print(f\"Owner: {store_owner}\")     \n",
    "\n",
    "def another_function():\n",
    "    try:\n",
    "        print(store_owner)  \n",
    "    except NameError as e:\n",
    "        print(f\"Error: {e}\")\n",
    "\n",
    "\n",
    "print_store_info()\n",
    "another_function()"
   ]
  },
  {
   "cell_type": "code",
   "execution_count": 27,
   "id": "3f0655c7-cff5-4792-8625-e0763789f508",
   "metadata": {},
   "outputs": [],
   "source": [
    "class OrderIterator:\n",
    "    def __init__(self, orders):\n",
    "        self.orders = orders\n",
    "        self.index = 0\n",
    "\n",
    "    def __iter__(self):\n",
    "        return self  # An iterator returns itself\n",
    "\n",
    "    def __next__(self):\n",
    "        if self.index < len(self.orders):\n",
    "            current_order = self.orders[self.index]\n",
    "            self.index += 1\n",
    "            return current_order\n",
    "        else:\n",
    "            raise StopIteration"
   ]
  },
  {
   "cell_type": "code",
   "execution_count": 28,
   "id": "621765bc-47b0-40ca-896e-01e524bac634",
   "metadata": {},
   "outputs": [
    {
     "name": "stdout",
     "output_type": "stream",
     "text": [
      "{'order_id': 1001, 'customer': 'amal', 'item': 'Mobile', 'quantity': 4, 'price': 452.02, 'date': '2025-03-23', 'total_price': 1808.08}\n",
      "{'order_id': 1002, 'customer': 'anjali', 'item': 'tv', 'quantity': 5, 'price': 8963.23, 'date': '2025-05-07', 'total_price': 44816.15}\n",
      "{'order_id': 1003, 'customer': 'abhi', 'item': 'Speaker', 'quantity': 5, 'price': 142.25, 'date': '2025-08-23', 'total_price': 711.25}\n"
     ]
    }
   ],
   "source": [
    "order_iter = OrderIterator(sales_data)\n",
    "\n",
    "for order in order_iter:\n",
    "    print(order)"
   ]
  },
  {
   "cell_type": "code",
   "execution_count": null,
   "id": "705f588b-f312-4055-8753-4e1f53ef3a97",
   "metadata": {},
   "outputs": [],
   "source": [
    "grouped_by_customer = {\n",
    "    customer: [order for order in sales_data if order[\"customer\"] == customer]\n",
    "    for customer in set(order[\"customer\"] for order in sales_data)\n",
    "}"
   ]
  }
 ],
 "metadata": {
  "kernelspec": {
   "display_name": "Python [conda env:base] *",
   "language": "python",
   "name": "conda-base-py"
  },
  "language_info": {
   "codemirror_mode": {
    "name": "ipython",
    "version": 3
   },
   "file_extension": ".py",
   "mimetype": "text/x-python",
   "name": "python",
   "nbconvert_exporter": "python",
   "pygments_lexer": "ipython3",
   "version": "3.13.5"
  }
 },
 "nbformat": 4,
 "nbformat_minor": 5
}
